{
  "nbformat": 4,
  "nbformat_minor": 0,
  "metadata": {
    "colab": {
      "name": "Unit 1 Project.ipynb",
      "provenance": [],
      "collapsed_sections": []
    },
    "kernelspec": {
      "name": "python3",
      "display_name": "Python 3"
    },
    "language_info": {
      "name": "python"
    }
  },
  "cells": [
    {
      "cell_type": "code",
      "metadata": {
        "id": "kzplkTVFOHY_"
      },
      "source": [
        "import pandas as pd"
      ],
      "execution_count": null,
      "outputs": []
    },
    {
      "cell_type": "code",
      "metadata": {
        "colab": {
          "base_uri": "https://localhost:8080/"
        },
        "id": "CbRwh0T_OQ5J",
        "outputId": "073ee272-1a14-4156-acfb-796354c36c58"
      },
      "source": [
        "Pokemon_stats = pd.read_csv('pokemon-dataset.csv', encoding = \"ISO-8859-1\")\n",
        "\n",
        "Pokemon_stats.shape\n",
        "\n",
        "Pokemon_stats.head"
      ],
      "execution_count": null,
      "outputs": [
        {
          "output_type": "execute_result",
          "data": {
            "text/plain": [
              "<bound method NDFrame.head of             Name          Name2 Primary Type  ... Sp.Defense  Speed  Total\n",
              "0      Bulbasaur            NaN        GRASS  ...         65     45    318\n",
              "1        Ivysaur            NaN        GRASS  ...         80     60    405\n",
              "2       Venusaur            NaN        GRASS  ...        100     80    525\n",
              "3       Venusaur  Mega Venusaur        GRASS  ...        120     80    625\n",
              "4     Charmander            NaN         FIRE  ...         50     65    309\n",
              "...          ...            ...          ...  ...        ...    ...    ...\n",
              "1040   Glastrier            NaN          ICE  ...        110     30    580\n",
              "1041   Spectrier            NaN        GHOST  ...         80    130    580\n",
              "1042     Calyrex            NaN      PSYCHIC  ...         80     80    500\n",
              "1043     Calyrex      Ice Rider      PSYCHIC  ...        130     50    680\n",
              "1044     Calyrex   Shadow Rider      PSYCHIC  ...        100    150    680\n",
              "\n",
              "[1045 rows x 11 columns]>"
            ]
          },
          "metadata": {},
          "execution_count": 3
        }
      ]
    },
    {
      "cell_type": "code",
      "metadata": {
        "colab": {
          "base_uri": "https://localhost:8080/"
        },
        "id": "xo6d1U3oQKqP",
        "outputId": "6120207a-08a9-4d7e-f2fb-e413bedd07ac"
      },
      "source": [
        "Pokemon_stats['Primary Type'].isnull().sum()"
      ],
      "execution_count": null,
      "outputs": [
        {
          "output_type": "execute_result",
          "data": {
            "text/plain": [
              "0"
            ]
          },
          "metadata": {},
          "execution_count": 6
        }
      ]
    },
    {
      "cell_type": "code",
      "metadata": {
        "colab": {
          "base_uri": "https://localhost:8080/"
        },
        "id": "53q95Sc8YXqy",
        "outputId": "16f7f1bd-5fa6-48c9-b642-9f08a66ba71d"
      },
      "source": [
        "Pokemon_stats['Primary Type'].value_counts()"
      ],
      "execution_count": null,
      "outputs": [
        {
          "output_type": "execute_result",
          "data": {
            "text/plain": [
              "WATER       134\n",
              "NORMAL      115\n",
              "GRASS        91\n",
              "BUG          81\n",
              "PSYCHIC      79\n",
              "FIRE         65\n",
              "ELECTRIC     62\n",
              "ROCK         60\n",
              "DARK         46\n",
              "GHOST        42\n",
              "FIGHTING     42\n",
              "POISON       41\n",
              "DRAGON       41\n",
              "GROUND       41\n",
              "ICE          39\n",
              "STEEL        36\n",
              "FAIRY        22\n",
              "FLYING        8\n",
              "Name: Primary Type, dtype: int64"
            ]
          },
          "metadata": {},
          "execution_count": 7
        }
      ]
    },
    {
      "cell_type": "code",
      "metadata": {
        "colab": {
          "base_uri": "https://localhost:8080/",
          "height": 296
        },
        "id": "2SXHHQrkafzq",
        "outputId": "343ffdd3-4e60-4780-de61-fb784730a7cb"
      },
      "source": [
        "import matplotlib.pyplot as plt\n",
        "import seaborn as sns\n",
        "sns.histplot(x='HP', y='Primary Type', data=Pokemon_stats, kde=True)"
      ],
      "execution_count": null,
      "outputs": [
        {
          "output_type": "execute_result",
          "data": {
            "text/plain": [
              "<matplotlib.axes._subplots.AxesSubplot at 0x7fe5d2a53110>"
            ]
          },
          "metadata": {},
          "execution_count": 29
        },
        {
          "output_type": "display_data",
          "data": {
            "image/png": "[encoded data removed]",
            "text/plain": [
              "<Figure size 432x288 with 1 Axes>"
            ]
          },
          "metadata": {
            "needs_background": "light"
          }
        }
      ]
    }
  ]
}